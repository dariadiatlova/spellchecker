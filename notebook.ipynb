{
 "cells": [
  {
   "cell_type": "code",
   "execution_count": 355,
   "metadata": {},
   "outputs": [
    {
     "name": "stdout",
     "output_type": "stream",
     "text": [
      "The autoreload extension is already loaded. To reload it, use:\n",
      "  %reload_ext autoreload\n"
     ]
    }
   ],
   "source": [
    "%load_ext autoreload\n",
    "%autoreload 2\n",
    "\n",
    "from data import DATA_ROOT_PATH\n",
    "from src.utils import get_unigram_frequency_dictionary, words_preprocessing, filter_vocabulary\n",
    "\n",
    "import pandas as pd\n",
    "import numpy as np\n",
    "\n",
    "from collections import defaultdict\n",
    "\n",
    "from src.feature_extractor import FeatureExtractor"
   ]
  },
  {
   "cell_type": "code",
   "execution_count": 361,
   "metadata": {},
   "outputs": [],
   "source": [
    "train_df = pd.read_csv(DATA_ROOT_PATH / \"train.tsv\", delimiter=\"\\t\")\n",
    "test_df = pd.read_csv(DATA_ROOT_PATH / \"test.txt\", delimiter=\"\\t\", header=None)"
   ]
  },
  {
   "cell_type": "code",
   "execution_count": 362,
   "metadata": {},
   "outputs": [
    {
     "name": "stderr",
     "output_type": "stream",
     "text": [
      " 23%|█████████▎                              | 233/1000 [02:47<08:49,  1.45it/s]"
     ]
    },
    {
     "name": "stdout",
     "output_type": "stream",
     "text": [
      "Did not find wrong suggestion for ingratitoode word.\n"
     ]
    },
    {
     "name": "stderr",
     "output_type": "stream",
     "text": [
      " 91%|████████████████████████████████████▍   | 910/1000 [10:49<01:10,  1.27it/s]"
     ]
    },
    {
     "name": "stdout",
     "output_type": "stream",
     "text": [
      "Did not find wrong suggestion for stenografer word.\n"
     ]
    },
    {
     "name": "stderr",
     "output_type": "stream",
     "text": [
      " 92%|████████████████████████████████████▊   | 919/1000 [10:53<00:29,  2.75it/s]"
     ]
    },
    {
     "name": "stdout",
     "output_type": "stream",
     "text": [
      "Did not find wrong suggestion for phacilities word.\n"
     ]
    },
    {
     "name": "stderr",
     "output_type": "stream",
     "text": [
      "100%|███████████████████████████████████████| 1000/1000 [12:04<00:00,  1.38it/s]"
     ]
    },
    {
     "name": "stdout",
     "output_type": "stream",
     "text": [
      "0:\tlearn: 0.6931208\ttotal: 1.71ms\tremaining: 12ms\n",
      "1:\tlearn: 0.6930972\ttotal: 2.72ms\tremaining: 8.15ms\n",
      "2:\tlearn: 0.6930699\ttotal: 3.67ms\tremaining: 6.12ms\n",
      "3:\tlearn: 0.6930477\ttotal: 4.5ms\tremaining: 4.5ms\n",
      "4:\tlearn: 0.6930094\ttotal: 5.46ms\tremaining: 3.27ms\n",
      "5:\tlearn: 0.6929719\ttotal: 6.39ms\tremaining: 2.13ms\n",
      "6:\tlearn: 0.6929385\ttotal: 7.24ms\tremaining: 1.03ms\n",
      "7:\tlearn: 0.6929047\ttotal: 8.04ms\tremaining: 0us\n"
     ]
    },
    {
     "name": "stderr",
     "output_type": "stream",
     "text": [
      "\n"
     ]
    }
   ],
   "source": [
    "spellchecker = FeatureExtractor()\n",
    "classifier = spellchecker.train(train_df)"
   ]
  },
  {
   "cell_type": "code",
   "execution_count": 367,
   "metadata": {},
   "outputs": [
    {
     "name": "stdout",
     "output_type": "stream",
     "text": [
      "Didn't find any similar words for 'antidesestablishmentarianism' word.\n",
      "Accuracy: 0.3053016453382084\n"
     ]
    }
   ],
   "source": [
    "results = spellchecker.validate(test_df)"
   ]
  },
  {
   "cell_type": "code",
   "execution_count": 399,
   "metadata": {},
   "outputs": [
    {
     "name": "stdout",
     "output_type": "stream",
     "text": [
      "Didn't find any similar words for 'antidesestablishmentarianism' word.\n",
      "Accuracy: @10: 0.8354661791590493.\n"
     ]
    }
   ],
   "source": [
    "spellchecker.validate_accuracy_at_k(test_df, k=10)"
   ]
  },
  {
   "cell_type": "code",
   "execution_count": null,
   "metadata": {},
   "outputs": [],
   "source": []
  }
 ],
 "metadata": {
  "kernelspec": {
   "display_name": "Python 3 (ipykernel)",
   "language": "python",
   "name": "python3"
  },
  "language_info": {
   "codemirror_mode": {
    "name": "ipython",
    "version": 3
   },
   "file_extension": ".py",
   "mimetype": "text/x-python",
   "name": "python",
   "nbconvert_exporter": "python",
   "pygments_lexer": "ipython3",
   "version": "3.8.11"
  }
 },
 "nbformat": 4,
 "nbformat_minor": 4
}
