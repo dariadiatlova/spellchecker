{
 "cells": [
  {
   "cell_type": "code",
   "execution_count": 418,
   "metadata": {},
   "outputs": [
    {
     "name": "stdout",
     "output_type": "stream",
     "text": [
      "The autoreload extension is already loaded. To reload it, use:\n",
      "  %reload_ext autoreload\n"
     ]
    }
   ],
   "source": [
    "%load_ext autoreload\n",
    "%autoreload 2\n",
    "\n",
    "from data import DATA_ROOT_PATH\n",
    "from src.utils import get_unigram_frequency_dictionary, words_preprocessing, filter_vocabulary\n",
    "\n",
    "import pandas as pd\n",
    "import numpy as np\n",
    "\n",
    "from collections import defaultdict\n",
    "\n",
    "from src.feature_extractor import FeatureExtractor"
   ]
  },
  {
   "cell_type": "code",
   "execution_count": 419,
   "metadata": {},
   "outputs": [],
   "source": [
    "train_df = pd.read_csv(DATA_ROOT_PATH / \"train.tsv\", delimiter=\"\\t\")\n",
    "test_df = pd.read_csv(DATA_ROOT_PATH / \"test.txt\", delimiter=\"\\t\", header=None)"
   ]
  },
  {
   "cell_type": "code",
   "execution_count": 423,
   "metadata": {},
   "outputs": [
    {
     "name": "stderr",
     "output_type": "stream",
     "text": [
      "100%|███████████████████████████████████████| 1000/1000 [11:30<00:00,  1.45it/s]\n"
     ]
    }
   ],
   "source": [
    "spellchecker = FeatureExtractor()\n",
    "\n",
    "classifier = spellchecker.train(train_df, \n",
    "                                train_size=1000, \n",
    "                                save_model_path=\"/Users/diat.lov/GitHub/spellchecker/trained_model/model\")"
   ]
  },
  {
   "cell_type": "code",
   "execution_count": 424,
   "metadata": {},
   "outputs": [
    {
     "name": "stdout",
     "output_type": "stream",
     "text": [
      "Didn't find any similar words for 'antidesestablishmentarianism' word.\n",
      "Accuracy: 0.37294332723948814\n"
     ]
    }
   ],
   "source": [
    "results = spellchecker.validate(test_df)"
   ]
  },
  {
   "cell_type": "code",
   "execution_count": 405,
   "metadata": {},
   "outputs": [
    {
     "name": "stdout",
     "output_type": "stream",
     "text": [
      "Vanilla hunspell accuracy: 0.5521023765996343\n"
     ]
    }
   ],
   "source": [
    "spellchecker.validate_vanilla_hunspell(test_df)"
   ]
  },
  {
   "cell_type": "code",
   "execution_count": 404,
   "metadata": {},
   "outputs": [
    {
     "name": "stdout",
     "output_type": "stream",
     "text": [
      "Didn't find any similar words for 'antidesestablishmentarianism' word.\n",
      "Accuracy: @10: 0.8427787934186471.\n"
     ]
    }
   ],
   "source": [
    "spellchecker.validate_accuracy_at_k(test_df, k=10)"
   ]
  },
  {
   "cell_type": "code",
   "execution_count": 406,
   "metadata": {},
   "outputs": [
    {
     "name": "stdout",
     "output_type": "stream",
     "text": [
      "Didn't find any similar words for 'antidesestablishmentarianism' word.\n",
      "Accuracy: @5: 0.7678244972577697.\n"
     ]
    }
   ],
   "source": [
    "spellchecker.validate_accuracy_at_k(test_df, k=5)"
   ]
  },
  {
   "cell_type": "code",
   "execution_count": null,
   "metadata": {},
   "outputs": [],
   "source": []
  }
 ],
 "metadata": {
  "kernelspec": {
   "display_name": "Python 3 (ipykernel)",
   "language": "python",
   "name": "python3"
  },
  "language_info": {
   "codemirror_mode": {
    "name": "ipython",
    "version": 3
   },
   "file_extension": ".py",
   "mimetype": "text/x-python",
   "name": "python",
   "nbconvert_exporter": "python",
   "pygments_lexer": "ipython3",
   "version": "3.8.11"
  }
 },
 "nbformat": 4,
 "nbformat_minor": 4
}
